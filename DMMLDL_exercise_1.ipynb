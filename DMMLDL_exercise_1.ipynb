{
  "nbformat": 4,
  "nbformat_minor": 0,
  "metadata": {
    "colab": {
      "name": "DMMLDL exercise 1.ipynb",
      "provenance": [],
      "collapsed_sections": [],
      "include_colab_link": true
    },
    "kernelspec": {
      "name": "python3",
      "display_name": "Python 3"
    }
  },
  "cells": [
    {
      "cell_type": "markdown",
      "metadata": {
        "id": "view-in-github",
        "colab_type": "text"
      },
      "source": [
        "<a href=\"https://colab.research.google.com/github/sippohippo/DMMLDL_course/blob/main/DMMLDL_exercise_1.ipynb\" target=\"_parent\"><img src=\"https://colab.research.google.com/assets/colab-badge.svg\" alt=\"Open In Colab\"/></a>"
      ]
    },
    {
      "cell_type": "markdown",
      "metadata": {
        "id": "gnHqRKkaFVFW"
      },
      "source": [
        "# Exercise session 1 for Data Mining, Machine Learning and Deep Learning\n",
        "\n",
        "You can complete this exercise here on google colab or by dowloading this file and opening it as a Jupyter notebook or in any other way that you like. \n",
        "\n",
        "The statistics assignments can be completed as a combination of traditional pen and paper and or programming (Python, scipy stats).\n",
        "\n",
        "The exercises do not need to be submitted. We will go through the solutions at the end of the exercise session."
      ]
    },
    {
      "cell_type": "markdown",
      "metadata": {
        "id": "iYksbtwt3MaW"
      },
      "source": [
        "## Statistics:\n",
        "\n",
        "1) **Bayes' Theorem and law of total probability** \n",
        "\n",
        "Megacorp Ltd produces microprocessors. In the past, the manufacturer has used an expensive but extremely reliable diagnostic procedure to test if a microprocessor has a defect. Historical data shows that 80% of the processors coming out of the production line have a defect and are thus not usable. In order to cut costs, management is considering using a new test that is very inexpensive but not as reliable. Preliminary data suggest that if a microprocessor has a defect, then the probability that the new test declares that the microprocessor does not have a defect is 20%. If the microprocessor is working properly, then the test declares it does not have a defect with a 95% probability.\n",
        "Help the management at Megacorp to decide on deploying the new test by answering the following questions:\n",
        "\n",
        "> a) What is the probability that the new test declares that a randomly selected processor does not have a defect (i.e., what is the share of processor pass the new test)?\n",
        "\n",
        "> b) What is a probability that a processor that passed the new test (and would thus be shipped to a customer) has a defect?\n",
        "\n",
        "> c) What is the probability that a processor that did not pass the test (and would thus be discarded) does not have a defect?\n",
        "\n",
        "> d) Would you recommend deploying the new test?\n",
        "\n",
        "\n",
        "\n",
        "2) **Probability distributions, PDF and CDF**\n",
        "\n",
        "> a) A random variable *X* is distributed according to the Poisson distribution with a mean of 2. What is P(3)? Hint: scipy stats\n",
        "\n",
        "> b) A random variable *X* is distributed according to the Poisson distribution with a mean of 0.3. What is P(1)?\n",
        "\n",
        "> c) Draw the PDF and CDF for the standard normal distribution. What is the probability of P(X > 1.5)\n",
        "\n",
        "> d) Generate a hundred random numbers with stats.norm.rvs, bin them and plot their distribution and compare it to the PDF plotted in c). Then generate 10000 and see the difference\n",
        "\n",
        "> e) Imagine that you conduct 5 coin tosses. What is the probability that you flip exactly 3 heads in these 5 throws? Now, Imagine that you have to toss a coin 29 times- What is the probability of getting 2 or fewer heads?\n",
        "\n",
        "> f) Suppose that a rare disease has an incidence of 1 in 1000 person-year. Assuming that members of the population are affected independently, find the probability of k cases in a population of 10,000 followed over 1 year for k=2. Find the probability more than 2 cases in the population of 10,000.\n",
        "\n",
        "\n",
        "---\n",
        "\n",
        "\n",
        "\n",
        "\n"
      ]
    },
    {
      "cell_type": "markdown",
      "metadata": {
        "id": "76cc8C4wxceV"
      },
      "source": [
        "## Data preparation and exploratory data analysis:\n",
        "\n",
        "1) Import the required libraries numpy, pandas, seaborn (or matplotlib)\n",
        "\n",
        "2) Load the penguins dataset (https://github.com/allisonhorst/palmerpenguins/raw/5b5891f01b52ae26ad8cb9755ec93672f49328a8/data/penguins_size.csv) Hint: read_csv\n",
        "\n",
        "3) Inspect the data with at least two different functions\n",
        "\n",
        "\n",
        "\n",
        "1.   How many penguins are there of each 3 species\n",
        "2.   What errors can you find in the data?\n",
        "3.   Which variable has most missing values?\n",
        "4.   What is the range for the feature 'body_mass_g'\n",
        "\n",
        "4) Preprocess the data\n",
        "\n",
        "\n",
        "1.   Remove rows with errors and check how many penguins remain in each species\n",
        "\n",
        "2.   Use one hot encoding on the feature 'islands'\n",
        "3.   Turn the feature 'sex' into binary format (0/1) so that female = 1\n",
        "\n",
        "\n",
        "\n",
        "5) Perform visual EDA\n",
        "\n",
        "\n",
        "1.   Create a pairplot with the parameter hue = 'species'. Which feature combinations show the differences between the species most prominently?\n",
        "2.   Create boxplot with species on the x-axis and \"culmen_length_mm\" on the y-axis. Which species is most different from the two others based on this feature?\n",
        "3.   Read the documentation for seaborn (or matplotlib) and create at least 1 other type of a plot and infer something from it\n"
      ]
    },
    {
      "cell_type": "markdown",
      "metadata": {
        "id": "UIfpVcpa5go5"
      },
      "source": [
        "#Solutions: Statistics\n"
      ]
    },
    {
      "cell_type": "markdown",
      "metadata": {
        "id": "VBfFzMLdyOus"
      },
      "source": [
        "\n",
        "## Task 1\n",
        "\n",
        "a) \n",
        "\n",
        "\n",
        "...\n",
        "\n",
        "b) \n",
        "\n",
        "\n",
        "\n",
        "...\n",
        "\n",
        "c) \n",
        "\n",
        "\n",
        "\n",
        "...\n",
        "\n",
        "d) "
      ]
    },
    {
      "cell_type": "markdown",
      "metadata": {
        "id": "qneFfYdr0loE"
      },
      "source": [
        "## Task 2"
      ]
    },
    {
      "cell_type": "code",
      "metadata": {
        "id": "mqw-VatFZD7T"
      },
      "source": [
        "from scipy import stats\n",
        "import matplotlib.pyplot as plt\n",
        "import numpy as np"
      ],
      "execution_count": null,
      "outputs": []
    },
    {
      "cell_type": "code",
      "metadata": {
        "id": "RmlXVnC-w3eX"
      },
      "source": [
        "# a)"
      ],
      "execution_count": null,
      "outputs": []
    },
    {
      "cell_type": "code",
      "metadata": {
        "id": "vfgZ60iKw4Zh"
      },
      "source": [
        "# b)"
      ],
      "execution_count": null,
      "outputs": []
    },
    {
      "cell_type": "code",
      "metadata": {
        "id": "gsTK2qYRw6ho"
      },
      "source": [
        "# c)"
      ],
      "execution_count": null,
      "outputs": []
    },
    {
      "cell_type": "code",
      "metadata": {
        "id": "mhy9XBgPw9EY"
      },
      "source": [
        "# d) "
      ],
      "execution_count": null,
      "outputs": []
    },
    {
      "cell_type": "markdown",
      "metadata": {
        "id": "ODGkgdRmUwAg"
      },
      "source": [
        "e) \n"
      ]
    },
    {
      "cell_type": "markdown",
      "metadata": {
        "id": "UBhrL7G3ZERm"
      },
      "source": [
        "f)"
      ]
    },
    {
      "cell_type": "markdown",
      "metadata": {
        "id": "G_p2qBu3-ia-"
      },
      "source": [
        "#Data Preparation and exploratory data analysis\n"
      ]
    },
    {
      "cell_type": "markdown",
      "metadata": {
        "id": "yOzH9S6XUz1p"
      },
      "source": [
        "## Task 1\n"
      ]
    },
    {
      "cell_type": "code",
      "metadata": {
        "id": "THBRHDJMxdMX"
      },
      "source": [
        ""
      ],
      "execution_count": null,
      "outputs": []
    },
    {
      "cell_type": "markdown",
      "metadata": {
        "id": "siDpu0pqVaIl"
      },
      "source": [
        "## Task 2\n"
      ]
    },
    {
      "cell_type": "code",
      "metadata": {
        "id": "MSLXDjDpxnnd"
      },
      "source": [
        ""
      ],
      "execution_count": null,
      "outputs": []
    },
    {
      "cell_type": "markdown",
      "metadata": {
        "id": "lJJfYjKBx-AV"
      },
      "source": [
        "## Task 3"
      ]
    },
    {
      "cell_type": "code",
      "metadata": {
        "id": "MpJg_phzx9i4"
      },
      "source": [
        ""
      ],
      "execution_count": null,
      "outputs": []
    },
    {
      "cell_type": "markdown",
      "metadata": {
        "id": "x50ydsTj6MOp"
      },
      "source": [
        "## Task 4"
      ]
    },
    {
      "cell_type": "code",
      "metadata": {
        "id": "BdiJ60umxqEq"
      },
      "source": [
        ""
      ],
      "execution_count": null,
      "outputs": []
    },
    {
      "cell_type": "markdown",
      "metadata": {
        "id": "kpblY20XxyfE"
      },
      "source": [
        "## Task 5"
      ]
    },
    {
      "cell_type": "code",
      "metadata": {
        "id": "-IlDPuKNx0DN"
      },
      "source": [
        ""
      ],
      "execution_count": null,
      "outputs": []
    }
  ]
}